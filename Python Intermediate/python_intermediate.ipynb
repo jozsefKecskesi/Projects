{
 "cells": [
  {
   "cell_type": "markdown",
   "metadata": {},
   "source": [
    "# Intermediate Python\n",
    "\n",
    "Welcome to the **Intermediate Python** section of Python-refresh. In this part, you'll deepen your understanding of Python by diving into functions, error handling, and object-oriented programming (OOP). You'll also learn how to work with modules and packages to better organize your code.\n",
    "\n",
    "---\n",
    "\n",
    "## Table of Contents\n",
    "\n",
    "- Functions\n",
    "- Error Handling\n",
    "- Object-Oriented Programming\n",
    "- Modules and Packages\n",
    "- Coding Challenges\n",
    "\n",
    "---\n",
    "\n",
    "## Functions\n",
    "\n",
    "Functions allow you to encapsulate reusable code blocks. Here, we'll review how to define functions, work with default and variable-length arguments, and use lambda functions.\n",
    "\n",
    "### Defining Functions\n",
    "\n",
    "```python\n",
    "def greet(name):\n",
    "    \"\"\"Return a greeting message for the given name.\"\"\"\n",
    "    return f\"Hello, {name}!\"\n",
    "    \n",
    "print(greet(\"Joe\"))  # Output: Hello, Joe!\n"
   ]
  },
  {
   "cell_type": "markdown",
   "metadata": {},
   "source": [
    "## Default and Keyword Arguments"
   ]
  },
  {
   "cell_type": "code",
   "execution_count": 1,
   "metadata": {},
   "outputs": [
    {
     "name": "stdout",
     "output_type": "stream",
     "text": [
      "25\n",
      "125\n"
     ]
    }
   ],
   "source": [
    "def power(base, exponent=2):\n",
    "    \"\"\"Return the base raised to the exponent (default exponent is 2).\"\"\"\n",
    "    return base ** exponent\n",
    "\n",
    "print(power(5))       # Output: 25\n",
    "print(power(5, 3))    # Output: 125\n"
   ]
  },
  {
   "cell_type": "markdown",
   "metadata": {},
   "source": [
    "## Variable-Length Arguments"
   ]
  },
  {
   "cell_type": "code",
   "execution_count": 2,
   "metadata": {},
   "outputs": [
    {
     "name": "stdout",
     "output_type": "stream",
     "text": [
      "Intermediate Python is fun!\n"
     ]
    }
   ],
   "source": [
    "def concatenate(*args, separator=\" \"):\n",
    "    \"\"\"Concatenate an arbitrary number of strings with a given separator.\"\"\"\n",
    "    return separator.join(args)\n",
    "\n",
    "result = concatenate(\"Intermediate\", \"Python\", \"is\", \"fun!\")\n",
    "print(result)  # Output: Intermediate Python is fun!\n"
   ]
  },
  {
   "cell_type": "markdown",
   "metadata": {},
   "source": [
    "## Lambda Functions\n",
    "\n",
    "Lambda functions are useful for creating small anonymous functions."
   ]
  },
  {
   "cell_type": "code",
   "execution_count": 3,
   "metadata": {},
   "outputs": [
    {
     "name": "stdout",
     "output_type": "stream",
     "text": [
      "36\n"
     ]
    }
   ],
   "source": [
    "square = lambda x: x * x\n",
    "print(square(6))  # Output: 36\n"
   ]
  },
  {
   "cell_type": "markdown",
   "metadata": {},
   "source": [
    "---"
   ]
  },
  {
   "cell_type": "markdown",
   "metadata": {},
   "source": [
    "## Error Handling\n",
    "\n",
    "Error handling ensures your code can deal with unexpected situations gracefully.\n",
    "\n",
    "## Basic Error Handling"
   ]
  },
  {
   "cell_type": "code",
   "execution_count": 5,
   "metadata": {},
   "outputs": [
    {
     "name": "stdout",
     "output_type": "stream",
     "text": [
      "Error: Division by zero!\n",
      "Execution complete.\n"
     ]
    }
   ],
   "source": [
    "try:\n",
    "    number = int(input(\"Enter an integer: \"))\n",
    "    result = 10 / number\n",
    "except ValueError:\n",
    "    print(\"Invalid input! Please enter an integer.\")\n",
    "except ZeroDivisionError:\n",
    "    print(\"Error: Division by zero!\")\n",
    "else:\n",
    "    print(\"Result is:\", result)\n",
    "finally:\n",
    "    print(\"Execution complete.\")\n"
   ]
  },
  {
   "cell_type": "markdown",
   "metadata": {},
   "source": [
    "## Custom Exceptions\n",
    "Creating your own exceptions can provide more control over error conditions."
   ]
  },
  {
   "cell_type": "code",
   "execution_count": 6,
   "metadata": {},
   "outputs": [
    {
     "name": "stdout",
     "output_type": "stream",
     "text": [
      "10\n",
      "Error: Negative numbers are not allowed!\n"
     ]
    }
   ],
   "source": [
    "class NegativeValueError(Exception):\n",
    "    \"\"\"Exception raised for errors when a negative value is provided.\"\"\"\n",
    "    pass\n",
    "\n",
    "def check_positive(n):\n",
    "    if n < 0:\n",
    "        raise NegativeValueError(\"Negative numbers are not allowed!\")\n",
    "    return n\n",
    "\n",
    "try:\n",
    "    print(check_positive(10))\n",
    "    print(check_positive(-5))\n",
    "except NegativeValueError as e:\n",
    "    print(\"Error:\", e)\n"
   ]
  },
  {
   "cell_type": "markdown",
   "metadata": {},
   "source": [
    "---"
   ]
  },
  {
   "cell_type": "markdown",
   "metadata": {},
   "source": [
    "# Object-Oriented Programming (OOP)\n",
    "OOP lets you model real-world entities using classes and objects.\n",
    "\n",
    "## Defining a Class and Creating Objects"
   ]
  },
  {
   "cell_type": "code",
   "execution_count": 2,
   "metadata": {},
   "outputs": [
    {
     "name": "stdout",
     "output_type": "stream",
     "text": [
      "Buddy says Woof!\n",
      "Snowy says Meow!\n"
     ]
    }
   ],
   "source": [
    "class Animal:\n",
    "    \"\"\"A simple Animal class.\"\"\"\n",
    "    \n",
    "    def __init__(self, name, sound):\n",
    "        self.name = name\n",
    "        self.sound = sound\n",
    "\n",
    "    def speak(self):\n",
    "        return f\"{self.name} says {self.sound}!\"\n",
    "\n",
    "# Create an instance of Animal\n",
    "dog = Animal(\"Buddy\", \"Woof\")\n",
    "cat = Animal(\"Snowy\", \"Meow\")\n",
    "print(dog.speak())  # Output: Buddy says Woof!\n",
    "print(cat.speak())  # Output: Snowy says Meow!\n"
   ]
  },
  {
   "cell_type": "markdown",
   "metadata": {},
   "source": [
    "# Inheritance and Method Overriding"
   ]
  },
  {
   "cell_type": "code",
   "execution_count": 3,
   "metadata": {},
   "outputs": [
    {
     "name": "stdout",
     "output_type": "stream",
     "text": [
      "Max says Woof!\n",
      "Max is a Labrador.\n"
     ]
    }
   ],
   "source": [
    "class Dog(Animal):\n",
    "    def __init__(self, name, breed):\n",
    "        super().__init__(name, \"Woof\")\n",
    "        self.breed = breed\n",
    "\n",
    "    def info(self):\n",
    "        return f\"{self.name} is a {self.breed}.\"\n",
    "\n",
    "my_dog = Dog(\"Max\", \"Labrador\")\n",
    "print(my_dog.speak())  # Output: Max says Woof!\n",
    "print(my_dog.info())   # Output: Max is a Labrador!\n"
   ]
  },
  {
   "cell_type": "markdown",
   "metadata": {},
   "source": [
    "---"
   ]
  },
  {
   "cell_type": "markdown",
   "metadata": {},
   "source": [
    "# Modules and Packages\n",
    "Organizing code with modules and packages improves readability and reusability.\n",
    "\n",
    "## Creating and Importing a Module\n",
    "Suppose we create a file called *math_utils.py:*\n",
    "\n",
    "*math_utils.py*\n",
    "\n",
    "def add(a, b):\n",
    "    return a + b\n",
    "\n",
    "def multiply(a, b):\n",
    "    return a * b\n"
   ]
  },
  {
   "cell_type": "markdown",
   "metadata": {},
   "source": [
    "Then, in your main file, you can import and use it:\n",
    "\n",
    "*main.py*\n",
    "import math_utils\n",
    "\n",
    "print(math_utils.add(5, 3))       # Output: 8\n",
    "print(math_utils.multiply(4, 6))  # Output: 24\n"
   ]
  },
  {
   "cell_type": "markdown",
   "metadata": {},
   "source": [
    "# Organizing Code into Packages"
   ]
  },
  {
   "cell_type": "code",
   "execution_count": null,
   "metadata": {},
   "outputs": [],
   "source": [
    "# A package is a directory containing modules and an \"__init__.py\" file. For example:\n",
    "\n",
    "# my_package/\n",
    "# ├── __init__.py\n",
    "# ├── module1.py\n",
    "# └── module2.py"
   ]
  },
  {
   "cell_type": "markdown",
   "metadata": {},
   "source": [
    "*module1.py:*"
   ]
  },
  {
   "cell_type": "code",
   "execution_count": null,
   "metadata": {},
   "outputs": [],
   "source": [
    "# def greet():\n",
    "#     return \"Hello from module1!\""
   ]
  },
  {
   "cell_type": "markdown",
   "metadata": {},
   "source": [
    "*module2.py:*"
   ]
  },
  {
   "cell_type": "code",
   "execution_count": null,
   "metadata": {},
   "outputs": [],
   "source": [
    "# def farewell():\n",
    "#     return \"Goodbye from module2!\""
   ]
  },
  {
   "cell_type": "markdown",
   "metadata": {},
   "source": [
    "You can import these modules as follows:"
   ]
  },
  {
   "cell_type": "code",
   "execution_count": 1,
   "metadata": {},
   "outputs": [
    {
     "name": "stdout",
     "output_type": "stream",
     "text": [
      "Hello from module1!\n",
      "Goodbye from module2!\n"
     ]
    }
   ],
   "source": [
    "from my_package import module1, module2\n",
    "\n",
    "print(module1.greet())    # Output: Hello from module1!\n",
    "print(module2.farewell()) # Output: Goodbye from module2!\n"
   ]
  },
  {
   "cell_type": "markdown",
   "metadata": {},
   "source": [
    "---"
   ]
  }
 ],
 "metadata": {
  "kernelspec": {
   "display_name": "Python 3",
   "language": "python",
   "name": "python3"
  },
  "language_info": {
   "codemirror_mode": {
    "name": "ipython",
    "version": 3
   },
   "file_extension": ".py",
   "mimetype": "text/x-python",
   "name": "python",
   "nbconvert_exporter": "python",
   "pygments_lexer": "ipython3",
   "version": "3.12.1"
  }
 },
 "nbformat": 4,
 "nbformat_minor": 2
}
