{
 "cells": [
  {
   "cell_type": "markdown",
   "metadata": {},
   "source": [
    "# Python Fundamentals\n",
    "\n",
    "Welcome to the **Python Fundamentals** section of Python-refresh. In this part, we'll review basic syntax, data types, variables, loops, and conditionals. Along the way, you’ll solve coding challenges to rebuild your muscle memory.\n",
    "\n",
    "---\n",
    "\n",
    "## Table of Contents\n",
    "\n",
    "1. [Introduction & Setup](#introduction--setup)\n",
    "2. [Data Types and Variables](#data-types-and-variables)\n",
    "3. [Operators and Expressions](#operators-and-expressions)\n",
    "4. [Conditionals](#conditionals)\n",
    "5. [Loops](#loops)\n",
    "6. [Coding Challenges](#coding-challenges)\n",
    "\n",
    "---\n",
    "\n",
    "## Introduction & Setup\n",
    "\n",
    "Python is an interpreted language with a clean, readable syntax. You can run Python code interactively (e.g., in a terminal or IDE console) or write scripts saved in `.py` files.\n",
    "\n",
    "### Example: Hello World\n",
    "\n",
    "```python\n",
    "# This is a comment.\n",
    "print(\"Hello, world!\")\n"
   ]
  },
  {
   "cell_type": "code",
   "execution_count": 1,
   "metadata": {},
   "outputs": [
    {
     "name": "stdout",
     "output_type": "stream",
     "text": [
      "Hello world\n"
     ]
    }
   ],
   "source": [
    "print('Hello world')"
   ]
  },
  {
   "cell_type": "markdown",
   "metadata": {},
   "source": [
    "# Data Types and Variables\n",
    "\n",
    "*Python provides several basic data types, including:*\n",
    "\n",
    "**Integers (int)**\n",
    "\n",
    "**Floating-point numbers (float)**\n",
    "\n",
    "**Strings (str)**\n",
    "\n",
    "**Booleans (bool)**\n",
    "\n",
    "**Variables**\n",
    "\n",
    "Variables are used to store data values. Python is dynamically typed, so you don't need to declare the type explicitly."
   ]
  },
  {
   "cell_type": "code",
   "execution_count": 2,
   "metadata": {},
   "outputs": [
    {
     "name": "stdout",
     "output_type": "stream",
     "text": [
      "<class 'int'>\n",
      "<class 'float'>\n",
      "<class 'str'>\n",
      "<class 'bool'>\n"
     ]
    }
   ],
   "source": [
    "# Variable assignment\n",
    "x = 10            # Integer\n",
    "pi = 3.14159      # Float\n",
    "name = \"Joe\"   # String\n",
    "is_student = True # Boolean\n",
    "\n",
    "# Checking types\n",
    "print(type(x))        # <class 'int'>\n",
    "print(type(pi))       # <class 'float'>\n",
    "print(type(name))     # <class 'str'>\n",
    "print(type(is_student))  # <class 'bool'>"
   ]
  },
  {
   "cell_type": "code",
   "execution_count": 3,
   "metadata": {},
   "outputs": [
    {
     "name": "stdout",
     "output_type": "stream",
     "text": [
      "Joe Smith\n",
      "Hello! Hello! Hello! \n"
     ]
    }
   ],
   "source": [
    "first_name = \"Joe\"\n",
    "last_name = \"Smith\"\n",
    "full_name = first_name + \" \" + last_name  # Concatenation\n",
    "print(full_name)  # Output: Jozsef Smith\n",
    "\n",
    "# Repeating strings\n",
    "echo = \"Hello! \" * 3\n",
    "print(echo)  # Output: Hello! Hello! Hello!"
   ]
  },
  {
   "cell_type": "markdown",
   "metadata": {},
   "source": [
    "# Operators and Expressions\n",
    "\n",
    "Operators allow you to perform arithmetic and logical operations.\n",
    "\n",
    "## Arithmetic Operators"
   ]
  },
  {
   "cell_type": "code",
   "execution_count": 4,
   "metadata": {},
   "outputs": [
    {
     "name": "stdout",
     "output_type": "stream",
     "text": [
      "19\n",
      "11\n",
      "60\n",
      "3.75\n",
      "3\n",
      "3\n",
      "50625\n"
     ]
    }
   ],
   "source": [
    "a = 15\n",
    "b = 4\n",
    "\n",
    "print(a + b)  # Addition: 19\n",
    "print(a - b)  # Subtraction: 11\n",
    "print(a * b)  # Multiplication: 60\n",
    "print(a / b)  # Division: 3.75\n",
    "print(a // b) # Floor Division: 3\n",
    "print(a % b)  # Modulus: 3\n",
    "print(a ** b) # Exponentiation: 15^4 = 50625\n"
   ]
  },
  {
   "cell_type": "markdown",
   "metadata": {},
   "source": [
    "## Comparison and Logical Operators"
   ]
  },
  {
   "cell_type": "code",
   "execution_count": 5,
   "metadata": {},
   "outputs": [
    {
     "name": "stdout",
     "output_type": "stream",
     "text": [
      "True\n",
      "False\n",
      "False\n",
      "True\n",
      "False\n"
     ]
    }
   ],
   "source": [
    "# Comparison Operators\n",
    "print(a > b)   # True\n",
    "print(a == b)  # False\n",
    "\n",
    "# Logical Operators\n",
    "x = True\n",
    "y = False\n",
    "print(x and y)  # False\n",
    "print(x or y)   # True\n",
    "print(not x)    # False"
   ]
  },
  {
   "cell_type": "markdown",
   "metadata": {},
   "source": [
    "---"
   ]
  },
  {
   "cell_type": "markdown",
   "metadata": {},
   "source": [
    "# Conditionals\n",
    "Conditionals allow your program to execute code based on specific conditions.\n",
    "\n",
    "## If, Elif, and Else"
   ]
  },
  {
   "cell_type": "code",
   "execution_count": 6,
   "metadata": {},
   "outputs": [
    {
     "name": "stdout",
     "output_type": "stream",
     "text": [
      "Positive number\n"
     ]
    }
   ],
   "source": [
    "num = 7\n",
    "\n",
    "if num > 0:\n",
    "    print(\"Positive number\")\n",
    "elif num == 0:\n",
    "    print(\"Zero\")\n",
    "else:\n",
    "    print(\"Negative number\")\n"
   ]
  },
  {
   "cell_type": "markdown",
   "metadata": {},
   "source": [
    "## Nested Conditionals"
   ]
  },
  {
   "cell_type": "code",
   "execution_count": 7,
   "metadata": {},
   "outputs": [
    {
     "name": "stdout",
     "output_type": "stream",
     "text": [
      "Adult\n",
      "Not allowed to drink\n"
     ]
    }
   ],
   "source": [
    "age = 20\n",
    "if age >= 18:\n",
    "    print(\"Adult\")\n",
    "    if age >= 21:\n",
    "        print(\"Allowed to drink\")\n",
    "    else:\n",
    "        print(\"Not allowed to drink\")\n",
    "else:\n",
    "    print(\"Minor\")\n"
   ]
  },
  {
   "cell_type": "markdown",
   "metadata": {},
   "source": [
    "---"
   ]
  },
  {
   "cell_type": "markdown",
   "metadata": {},
   "source": [
    "# Loops\n",
    "Loops let you repeat actions multiple times.\n",
    "\n",
    "## For Loop"
   ]
  },
  {
   "cell_type": "code",
   "execution_count": 8,
   "metadata": {},
   "outputs": [
    {
     "name": "stdout",
     "output_type": "stream",
     "text": [
      "I like apple\n",
      "I like banana\n",
      "I like cherry\n"
     ]
    }
   ],
   "source": [
    "# Looping through a list\n",
    "fruits = [\"apple\", \"banana\", \"cherry\"]\n",
    "for fruit in fruits:\n",
    "    print(f\"I like {fruit}\")\n"
   ]
  },
  {
   "cell_type": "markdown",
   "metadata": {},
   "source": [
    "## While Loop"
   ]
  },
  {
   "cell_type": "code",
   "execution_count": 9,
   "metadata": {},
   "outputs": [
    {
     "name": "stdout",
     "output_type": "stream",
     "text": [
      "Counter is: 0\n",
      "Counter is: 1\n",
      "Counter is: 2\n",
      "Counter is: 3\n",
      "Counter is: 4\n"
     ]
    }
   ],
   "source": [
    "# Using a while loop to print numbers 0 to 4\n",
    "counter = 0\n",
    "while counter < 5:\n",
    "    print(\"Counter is:\", counter)\n",
    "    counter += 1  # Increment the counter\n"
   ]
  },
  {
   "cell_type": "markdown",
   "metadata": {},
   "source": [
    "---"
   ]
  },
  {
   "cell_type": "markdown",
   "metadata": {},
   "source": [
    "# Coding Challenges\n",
    "## Challenge 1: Variable Practice\n",
    "Create variables for your name, age, and city, then print a sentence using these variables.\n",
    "\n",
    "*Expected Output:*\n",
    "\n",
    "*My name is Joe, I am 30 years old, and I live in Dublin.*"
   ]
  },
  {
   "cell_type": "code",
   "execution_count": 10,
   "metadata": {},
   "outputs": [
    {
     "name": "stdout",
     "output_type": "stream",
     "text": [
      "My name is Joe, I am 30 years old, and I live in Dublin.\n"
     ]
    }
   ],
   "source": [
    "name = \"Joe\"\n",
    "age = 30\n",
    "city = \"Dublin\"\n",
    "print(f\"My name is {name}, I am {age} years old, and I live in {city}.\")\n"
   ]
  },
  {
   "cell_type": "markdown",
   "metadata": {},
   "source": [
    "## Challenge 2: FizzBuzz\n",
    "Write a program that prints numbers from 1 to 20. For multiples of 3, print \"Fizz\"; for multiples of 5, print \"Buzz\"; and for multiples of both 3 and 5, print \"FizzBuzz\".\n",
    "\n",
    "*Sample Solution:*"
   ]
  },
  {
   "cell_type": "code",
   "execution_count": 11,
   "metadata": {},
   "outputs": [
    {
     "name": "stdout",
     "output_type": "stream",
     "text": [
      "1\n",
      "2\n",
      "Fizz\n",
      "4\n",
      "Buzz\n",
      "Fizz\n",
      "7\n",
      "8\n",
      "Fizz\n",
      "Buzz\n",
      "11\n",
      "Fizz\n",
      "13\n",
      "14\n",
      "FizzBuzz\n",
      "16\n",
      "17\n",
      "Fizz\n",
      "19\n",
      "Buzz\n"
     ]
    }
   ],
   "source": [
    "for i in range(1, 21):\n",
    "    if i % 3 == 0 and i % 5 == 0:\n",
    "        print(\"FizzBuzz\")\n",
    "    elif i % 3 == 0:\n",
    "        print(\"Fizz\")\n",
    "    elif i % 5 == 0:\n",
    "        print(\"Buzz\")\n",
    "    else:\n",
    "        print(i)\n"
   ]
  },
  {
   "cell_type": "markdown",
   "metadata": {},
   "source": [
    "## Challenge 3: Even or Odd\n",
    "Write a program that prompts the user to enter an integer, and then prints whether the number is even or odd.\n",
    "\n",
    "*Sample Solution:*"
   ]
  },
  {
   "cell_type": "code",
   "execution_count": 13,
   "metadata": {},
   "outputs": [
    {
     "name": "stdout",
     "output_type": "stream",
     "text": [
      "5 is odd.\n"
     ]
    }
   ],
   "source": [
    "number = int(input(\"Enter an integer: \"))\n",
    "if number % 2 == 0:\n",
    "    print(f\"{number} is even.\")\n",
    "else:\n",
    "    print(f\"{number} is odd.\")\n"
   ]
  }
 ],
 "metadata": {
  "kernelspec": {
   "display_name": "Python 3",
   "language": "python",
   "name": "python3"
  },
  "language_info": {
   "codemirror_mode": {
    "name": "ipython",
    "version": 3
   },
   "file_extension": ".py",
   "mimetype": "text/x-python",
   "name": "python",
   "nbconvert_exporter": "python",
   "pygments_lexer": "ipython3",
   "version": "3.12.1"
  }
 },
 "nbformat": 4,
 "nbformat_minor": 2
}
